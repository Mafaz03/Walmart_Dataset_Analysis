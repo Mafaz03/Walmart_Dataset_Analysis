{
 "cells": [
  {
   "cell_type": "markdown",
   "id": "4986072b-3b11-452e-a13b-6100698a60bd",
   "metadata": {},
   "source": [
    "# Importing Dependencies\n",
    "\n",
    "Pandas to read and analyse the csv files.\n",
    "\n",
    "matplotlib to plot charts for better visiualization"
   ]
  },
  {
   "cell_type": "code",
   "execution_count": 2,
   "id": "dcf93de6",
   "metadata": {},
   "outputs": [],
   "source": [
    "\n",
    "\n",
    "import pandas as pd\n",
    "import matplotlib.pyplot as plt\n",
    "import numpy as np\n"
   ]
  },
  {
   "cell_type": "markdown",
   "id": "8bc05c60",
   "metadata": {},
   "source": [
    "### Reading CSV Files"
   ]
  },
  {
   "cell_type": "code",
   "execution_count": 3,
   "id": "c12b0062",
   "metadata": {},
   "outputs": [],
   "source": [
    "Walmart_stores = pd.read_csv(\"stores.csv\")\n",
    "Walmart_features = pd.read_csv(\"features.csv\")"
   ]
  },
  {
   "cell_type": "markdown",
   "id": "dba113e3-bffe-4334-a915-334229c4b6e4",
   "metadata": {},
   "source": [
    "### Basic understanding of the dataset"
   ]
  },
  {
   "cell_type": "code",
   "execution_count": 4,
   "id": "06e26453",
   "metadata": {},
   "outputs": [
    {
     "data": {
      "text/plain": [
       "(   Store Type    Size\n",
       " 0      1    A  151315\n",
       " 1      2    A  202307\n",
       " 2      3    B   37392\n",
       " 3      4    A  205863\n",
       " 4      5    B   34875,\n",
       "    Store        Date  Temperature  Fuel_Price  MarkDown1  MarkDown2  \\\n",
       " 0      1  2010-02-05        42.31       2.572        NaN        NaN   \n",
       " 1      1  2010-02-12        38.51       2.548        NaN        NaN   \n",
       " 2      1  2010-02-19        39.93       2.514        NaN        NaN   \n",
       " 3      1  2010-02-26        46.63       2.561        NaN        NaN   \n",
       " 4      1  2010-03-05        46.50       2.625        NaN        NaN   \n",
       " \n",
       "    MarkDown3  MarkDown4  MarkDown5         CPI  Unemployment  IsHoliday  \n",
       " 0        NaN        NaN        NaN  211.096358         8.106      False  \n",
       " 1        NaN        NaN        NaN  211.242170         8.106       True  \n",
       " 2        NaN        NaN        NaN  211.289143         8.106      False  \n",
       " 3        NaN        NaN        NaN  211.319643         8.106      False  \n",
       " 4        NaN        NaN        NaN  211.350143         8.106      False  )"
      ]
     },
     "execution_count": 4,
     "metadata": {},
     "output_type": "execute_result"
    }
   ],
   "source": [
    "Walmart_stores.head()  , Walmart_features.head() "
   ]
  },
  {
   "cell_type": "code",
   "execution_count": 5,
   "id": "b0580992",
   "metadata": {},
   "outputs": [
    {
     "name": "stdout",
     "output_type": "stream",
     "text": [
      "FEATURES COLUMNS\n",
      "Index(['Store', 'Date', 'Temperature', 'Fuel_Price', 'MarkDown1', 'MarkDown2',\n",
      "       'MarkDown3', 'MarkDown4', 'MarkDown5', 'CPI', 'Unemployment',\n",
      "       'IsHoliday'],\n",
      "      dtype='object')\n",
      "----------------------------------------------------------------------------------------------------\n",
      "STORES COLUMNS\n",
      "Index(['Store', 'Type', 'Size'], dtype='object')\n",
      "----------------------------------------------------------------------------------------------------\n",
      "----------------------------------------------------------------------------------------------------\n",
      "FEATURES dtypes\n",
      "Store             int64\n",
      "Date             object\n",
      "Temperature     float64\n",
      "Fuel_Price      float64\n",
      "MarkDown1       float64\n",
      "MarkDown2       float64\n",
      "MarkDown3       float64\n",
      "MarkDown4       float64\n",
      "MarkDown5       float64\n",
      "CPI             float64\n",
      "Unemployment    float64\n",
      "IsHoliday          bool\n",
      "dtype: object\n",
      "STORES dtypes\n",
      "----------------------------------------------------------------------------------------------------\n",
      "Store     int64\n",
      "Type     object\n",
      "Size      int64\n",
      "dtype: object\n",
      "----------------------------------------------------------------------------------------------------\n",
      "----------------------------------------------------------------------------------------------------\n",
      "FEATURES info\n",
      "<class 'pandas.core.frame.DataFrame'>\n",
      "RangeIndex: 8190 entries, 0 to 8189\n",
      "Data columns (total 12 columns):\n",
      " #   Column        Non-Null Count  Dtype  \n",
      "---  ------        --------------  -----  \n",
      " 0   Store         8190 non-null   int64  \n",
      " 1   Date          8190 non-null   object \n",
      " 2   Temperature   8190 non-null   float64\n",
      " 3   Fuel_Price    8190 non-null   float64\n",
      " 4   MarkDown1     4032 non-null   float64\n",
      " 5   MarkDown2     2921 non-null   float64\n",
      " 6   MarkDown3     3613 non-null   float64\n",
      " 7   MarkDown4     3464 non-null   float64\n",
      " 8   MarkDown5     4050 non-null   float64\n",
      " 9   CPI           7605 non-null   float64\n",
      " 10  Unemployment  7605 non-null   float64\n",
      " 11  IsHoliday     8190 non-null   bool   \n",
      "dtypes: bool(1), float64(9), int64(1), object(1)\n",
      "memory usage: 712.0+ KB\n",
      "None\n",
      "----------------------------------------------------------------------------------------------------\n",
      "STOES info\n",
      "<class 'pandas.core.frame.DataFrame'>\n",
      "RangeIndex: 45 entries, 0 to 44\n",
      "Data columns (total 3 columns):\n",
      " #   Column  Non-Null Count  Dtype \n",
      "---  ------  --------------  ----- \n",
      " 0   Store   45 non-null     int64 \n",
      " 1   Type    45 non-null     object\n",
      " 2   Size    45 non-null     int64 \n",
      "dtypes: int64(2), object(1)\n",
      "memory usage: 1.2+ KB\n",
      "None\n"
     ]
    }
   ],
   "source": [
    "\n",
    "def info():\n",
    "    print(\"FEATURES COLUMNS\")\n",
    "    print(Walmart_features.columns)\n",
    "    print(\"-\"*100)\n",
    "    print(\"STORES COLUMNS\")\n",
    "    print(Walmart_stores.columns)\n",
    "    print(\"-\"*100)\n",
    "    print(\"-\"*100)\n",
    "    \n",
    "    print(\"FEATURES dtypes\")\n",
    "    print(Walmart_features.dtypes)\n",
    "    print(\"STORES dtypes\")\n",
    "    print(\"-\"*100)\n",
    "    print(Walmart_stores.dtypes)\n",
    "    print(\"-\"*100)\n",
    "    print(\"-\"*100)\n",
    "    \n",
    "    print(\"FEATURES info\")\n",
    "    print(Walmart_features.info())\n",
    "    print(\"-\"*100)\n",
    "    print(\"STOES info\")\n",
    "    print(Walmart_stores.info())\n",
    "    \n",
    "    \n",
    "    \n",
    "    \n",
    "info()\n"
   ]
  },
  {
   "cell_type": "markdown",
   "id": "aa431c07",
   "metadata": {},
   "source": [
    "Cleaning Data"
   ]
  },
  {
   "cell_type": "code",
   "execution_count": 14,
   "id": "d641f95c",
   "metadata": {},
   "outputs": [
    {
     "data": {
      "text/plain": [
       "(2069, 12)"
      ]
     },
     "execution_count": 14,
     "metadata": {},
     "output_type": "execute_result"
    }
   ],
   "source": [
    "Walmart_features.shape"
   ]
  },
  {
   "cell_type": "code",
   "execution_count": 15,
   "id": "3dea4b11",
   "metadata": {},
   "outputs": [],
   "source": [
    "Walmart_features = Walmart_features.dropna()"
   ]
  },
  {
   "cell_type": "code",
   "execution_count": 16,
   "id": "a2eabcf8",
   "metadata": {},
   "outputs": [
    {
     "data": {
      "text/plain": [
       "(2069, 12)"
      ]
     },
     "execution_count": 16,
     "metadata": {},
     "output_type": "execute_result"
    }
   ],
   "source": [
    "Walmart_features.shape"
   ]
  },
  {
   "cell_type": "code",
   "execution_count": 17,
   "id": "e38fa551",
   "metadata": {},
   "outputs": [
    {
     "name": "stdout",
     "output_type": "stream",
     "text": [
      "6121 rows contaning Null values removed \n"
     ]
    }
   ],
   "source": [
    "\n",
    "print(f\"{8190 - 2069} rows contaning Null values removed \")\n"
   ]
  },
  {
   "cell_type": "code",
   "execution_count": 18,
   "id": "07c46d76",
   "metadata": {},
   "outputs": [
    {
     "data": {
      "text/plain": [
       "(45, 3)"
      ]
     },
     "execution_count": 18,
     "metadata": {},
     "output_type": "execute_result"
    }
   ],
   "source": [
    "Walmart_stores.shape"
   ]
  },
  {
   "cell_type": "code",
   "execution_count": 19,
   "id": "6431fbe9",
   "metadata": {},
   "outputs": [],
   "source": [
    "Walmart_stores = Walmart_stores.dropna()"
   ]
  },
  {
   "cell_type": "code",
   "execution_count": 20,
   "id": "3cdc2fc5",
   "metadata": {},
   "outputs": [
    {
     "data": {
      "text/plain": [
       "(45, 3)"
      ]
     },
     "execution_count": 20,
     "metadata": {},
     "output_type": "execute_result"
    }
   ],
   "source": [
    "Walmart_stores.shape"
   ]
  },
  {
   "cell_type": "code",
   "execution_count": 21,
   "id": "05f25ce0",
   "metadata": {},
   "outputs": [
    {
     "name": "stdout",
     "output_type": "stream",
     "text": [
      "0 rows contaning Null values removed \n"
     ]
    }
   ],
   "source": [
    "print(f\"0 rows contaning Null values removed \")"
   ]
  },
  {
   "cell_type": "markdown",
   "id": "fd8f5b9f",
   "metadata": {},
   "source": [
    "# Deeper Dive into the Dataset\n",
    "\n",
    "..Trying to derive out relationship / dependencies"
   ]
  },
  {
   "cell_type": "markdown",
   "id": "06ff9186-bdb4-4fa0-8911-651608077bc5",
   "metadata": {},
   "source": [
    "## Relationships between unemployment and other criterias"
   ]
  },
  {
   "cell_type": "code",
   "execution_count": 22,
   "id": "d8180648",
   "metadata": {},
   "outputs": [],
   "source": [
    "max_unemployement = Walmart_features[Walmart_features['Unemployment'] == \n",
    "                 Walmart_features['Unemployment'].max()]"
   ]
  },
  {
   "cell_type": "code",
   "execution_count": 23,
   "id": "bd33830a",
   "metadata": {},
   "outputs": [],
   "source": [
    "min_unemployement = Walmart_features[Walmart_features['Unemployment'] == \n",
    "                 Walmart_features['Unemployment'].min()]"
   ]
  },
  {
   "cell_type": "code",
   "execution_count": 24,
   "id": "3cae2781",
   "metadata": {},
   "outputs": [
    {
     "data": {
      "text/html": [
       "<div>\n",
       "<style scoped>\n",
       "    .dataframe tbody tr th:only-of-type {\n",
       "        vertical-align: middle;\n",
       "    }\n",
       "\n",
       "    .dataframe tbody tr th {\n",
       "        vertical-align: top;\n",
       "    }\n",
       "\n",
       "    .dataframe thead th {\n",
       "        text-align: right;\n",
       "    }\n",
       "</style>\n",
       "<table border=\"1\" class=\"dataframe\">\n",
       "  <thead>\n",
       "    <tr style=\"text-align: right;\">\n",
       "      <th></th>\n",
       "      <th>Store</th>\n",
       "      <th>Date</th>\n",
       "      <th>Temperature</th>\n",
       "      <th>Fuel_Price</th>\n",
       "      <th>MarkDown1</th>\n",
       "      <th>MarkDown2</th>\n",
       "      <th>MarkDown3</th>\n",
       "      <th>MarkDown4</th>\n",
       "      <th>MarkDown5</th>\n",
       "      <th>CPI</th>\n",
       "      <th>Unemployment</th>\n",
       "      <th>IsHoliday</th>\n",
       "    </tr>\n",
       "  </thead>\n",
       "  <tbody>\n",
       "    <tr>\n",
       "      <th>2094</th>\n",
       "      <td>12</td>\n",
       "      <td>2011-11-11</td>\n",
       "      <td>48.76</td>\n",
       "      <td>3.824</td>\n",
       "      <td>18049.87</td>\n",
       "      <td>7939.68</td>\n",
       "      <td>234.64</td>\n",
       "      <td>10463.07</td>\n",
       "      <td>5588.33</td>\n",
       "      <td>129.816710</td>\n",
       "      <td>12.89</td>\n",
       "      <td>False</td>\n",
       "    </tr>\n",
       "    <tr>\n",
       "      <th>2095</th>\n",
       "      <td>12</td>\n",
       "      <td>2011-11-18</td>\n",
       "      <td>54.20</td>\n",
       "      <td>3.813</td>\n",
       "      <td>5957.36</td>\n",
       "      <td>343.22</td>\n",
       "      <td>84.93</td>\n",
       "      <td>2390.67</td>\n",
       "      <td>12934.62</td>\n",
       "      <td>129.826833</td>\n",
       "      <td>12.89</td>\n",
       "      <td>False</td>\n",
       "    </tr>\n",
       "    <tr>\n",
       "      <th>2096</th>\n",
       "      <td>12</td>\n",
       "      <td>2011-11-25</td>\n",
       "      <td>53.25</td>\n",
       "      <td>3.622</td>\n",
       "      <td>5391.83</td>\n",
       "      <td>8.00</td>\n",
       "      <td>63143.29</td>\n",
       "      <td>49.27</td>\n",
       "      <td>2115.67</td>\n",
       "      <td>129.836400</td>\n",
       "      <td>12.89</td>\n",
       "      <td>True</td>\n",
       "    </tr>\n",
       "    <tr>\n",
       "      <th>2098</th>\n",
       "      <td>12</td>\n",
       "      <td>2011-12-09</td>\n",
       "      <td>42.17</td>\n",
       "      <td>3.644</td>\n",
       "      <td>8374.63</td>\n",
       "      <td>15.85</td>\n",
       "      <td>573.92</td>\n",
       "      <td>5849.71</td>\n",
       "      <td>37581.27</td>\n",
       "      <td>129.855533</td>\n",
       "      <td>12.89</td>\n",
       "      <td>False</td>\n",
       "    </tr>\n",
       "    <tr>\n",
       "      <th>2099</th>\n",
       "      <td>12</td>\n",
       "      <td>2011-12-16</td>\n",
       "      <td>43.29</td>\n",
       "      <td>3.600</td>\n",
       "      <td>4940.95</td>\n",
       "      <td>28.45</td>\n",
       "      <td>1038.30</td>\n",
       "      <td>1100.93</td>\n",
       "      <td>5243.21</td>\n",
       "      <td>129.898065</td>\n",
       "      <td>12.89</td>\n",
       "      <td>False</td>\n",
       "    </tr>\n",
       "    <tr>\n",
       "      <th>2100</th>\n",
       "      <td>12</td>\n",
       "      <td>2011-12-23</td>\n",
       "      <td>45.40</td>\n",
       "      <td>3.541</td>\n",
       "      <td>1797.35</td>\n",
       "      <td>15.98</td>\n",
       "      <td>839.84</td>\n",
       "      <td>1375.84</td>\n",
       "      <td>17699.26</td>\n",
       "      <td>129.984548</td>\n",
       "      <td>12.89</td>\n",
       "      <td>False</td>\n",
       "    </tr>\n",
       "    <tr>\n",
       "      <th>2101</th>\n",
       "      <td>12</td>\n",
       "      <td>2011-12-30</td>\n",
       "      <td>44.64</td>\n",
       "      <td>3.428</td>\n",
       "      <td>6982.02</td>\n",
       "      <td>58804.91</td>\n",
       "      <td>60.29</td>\n",
       "      <td>1268.21</td>\n",
       "      <td>3553.79</td>\n",
       "      <td>130.071032</td>\n",
       "      <td>12.89</td>\n",
       "      <td>True</td>\n",
       "    </tr>\n",
       "    <tr>\n",
       "      <th>5006</th>\n",
       "      <td>28</td>\n",
       "      <td>2011-11-11</td>\n",
       "      <td>48.76</td>\n",
       "      <td>3.824</td>\n",
       "      <td>22860.64</td>\n",
       "      <td>12223.82</td>\n",
       "      <td>343.77</td>\n",
       "      <td>20834.37</td>\n",
       "      <td>9895.33</td>\n",
       "      <td>129.816710</td>\n",
       "      <td>12.89</td>\n",
       "      <td>False</td>\n",
       "    </tr>\n",
       "    <tr>\n",
       "      <th>5007</th>\n",
       "      <td>28</td>\n",
       "      <td>2011-11-18</td>\n",
       "      <td>54.20</td>\n",
       "      <td>3.813</td>\n",
       "      <td>6772.46</td>\n",
       "      <td>1654.68</td>\n",
       "      <td>86.01</td>\n",
       "      <td>1068.35</td>\n",
       "      <td>9835.85</td>\n",
       "      <td>129.826833</td>\n",
       "      <td>12.89</td>\n",
       "      <td>False</td>\n",
       "    </tr>\n",
       "    <tr>\n",
       "      <th>5008</th>\n",
       "      <td>28</td>\n",
       "      <td>2011-11-25</td>\n",
       "      <td>53.25</td>\n",
       "      <td>3.622</td>\n",
       "      <td>2232.08</td>\n",
       "      <td>179.73</td>\n",
       "      <td>61319.72</td>\n",
       "      <td>513.76</td>\n",
       "      <td>1790.89</td>\n",
       "      <td>129.836400</td>\n",
       "      <td>12.89</td>\n",
       "      <td>True</td>\n",
       "    </tr>\n",
       "    <tr>\n",
       "      <th>5009</th>\n",
       "      <td>28</td>\n",
       "      <td>2011-12-02</td>\n",
       "      <td>52.50</td>\n",
       "      <td>3.701</td>\n",
       "      <td>10392.61</td>\n",
       "      <td>75.00</td>\n",
       "      <td>2241.11</td>\n",
       "      <td>6243.02</td>\n",
       "      <td>19374.19</td>\n",
       "      <td>129.845967</td>\n",
       "      <td>12.89</td>\n",
       "      <td>False</td>\n",
       "    </tr>\n",
       "    <tr>\n",
       "      <th>5010</th>\n",
       "      <td>28</td>\n",
       "      <td>2011-12-09</td>\n",
       "      <td>42.17</td>\n",
       "      <td>3.644</td>\n",
       "      <td>6628.73</td>\n",
       "      <td>21.00</td>\n",
       "      <td>140.19</td>\n",
       "      <td>6168.78</td>\n",
       "      <td>14073.59</td>\n",
       "      <td>129.855533</td>\n",
       "      <td>12.89</td>\n",
       "      <td>False</td>\n",
       "    </tr>\n",
       "    <tr>\n",
       "      <th>5011</th>\n",
       "      <td>28</td>\n",
       "      <td>2011-12-16</td>\n",
       "      <td>43.29</td>\n",
       "      <td>3.600</td>\n",
       "      <td>2429.88</td>\n",
       "      <td>18.24</td>\n",
       "      <td>347.78</td>\n",
       "      <td>573.31</td>\n",
       "      <td>6432.36</td>\n",
       "      <td>129.898065</td>\n",
       "      <td>12.89</td>\n",
       "      <td>False</td>\n",
       "    </tr>\n",
       "    <tr>\n",
       "      <th>5012</th>\n",
       "      <td>28</td>\n",
       "      <td>2011-12-23</td>\n",
       "      <td>45.40</td>\n",
       "      <td>3.541</td>\n",
       "      <td>2135.31</td>\n",
       "      <td>1.53</td>\n",
       "      <td>752.34</td>\n",
       "      <td>499.00</td>\n",
       "      <td>5674.11</td>\n",
       "      <td>129.984548</td>\n",
       "      <td>12.89</td>\n",
       "      <td>False</td>\n",
       "    </tr>\n",
       "    <tr>\n",
       "      <th>5013</th>\n",
       "      <td>28</td>\n",
       "      <td>2011-12-30</td>\n",
       "      <td>44.64</td>\n",
       "      <td>3.428</td>\n",
       "      <td>5218.93</td>\n",
       "      <td>49826.06</td>\n",
       "      <td>155.37</td>\n",
       "      <td>1011.54</td>\n",
       "      <td>7761.98</td>\n",
       "      <td>130.071032</td>\n",
       "      <td>12.89</td>\n",
       "      <td>True</td>\n",
       "    </tr>\n",
       "  </tbody>\n",
       "</table>\n",
       "</div>"
      ],
      "text/plain": [
       "      Store        Date  Temperature  Fuel_Price  MarkDown1  MarkDown2  \\\n",
       "2094     12  2011-11-11        48.76       3.824   18049.87    7939.68   \n",
       "2095     12  2011-11-18        54.20       3.813    5957.36     343.22   \n",
       "2096     12  2011-11-25        53.25       3.622    5391.83       8.00   \n",
       "2098     12  2011-12-09        42.17       3.644    8374.63      15.85   \n",
       "2099     12  2011-12-16        43.29       3.600    4940.95      28.45   \n",
       "2100     12  2011-12-23        45.40       3.541    1797.35      15.98   \n",
       "2101     12  2011-12-30        44.64       3.428    6982.02   58804.91   \n",
       "5006     28  2011-11-11        48.76       3.824   22860.64   12223.82   \n",
       "5007     28  2011-11-18        54.20       3.813    6772.46    1654.68   \n",
       "5008     28  2011-11-25        53.25       3.622    2232.08     179.73   \n",
       "5009     28  2011-12-02        52.50       3.701   10392.61      75.00   \n",
       "5010     28  2011-12-09        42.17       3.644    6628.73      21.00   \n",
       "5011     28  2011-12-16        43.29       3.600    2429.88      18.24   \n",
       "5012     28  2011-12-23        45.40       3.541    2135.31       1.53   \n",
       "5013     28  2011-12-30        44.64       3.428    5218.93   49826.06   \n",
       "\n",
       "      MarkDown3  MarkDown4  MarkDown5         CPI  Unemployment  IsHoliday  \n",
       "2094     234.64   10463.07    5588.33  129.816710         12.89      False  \n",
       "2095      84.93    2390.67   12934.62  129.826833         12.89      False  \n",
       "2096   63143.29      49.27    2115.67  129.836400         12.89       True  \n",
       "2098     573.92    5849.71   37581.27  129.855533         12.89      False  \n",
       "2099    1038.30    1100.93    5243.21  129.898065         12.89      False  \n",
       "2100     839.84    1375.84   17699.26  129.984548         12.89      False  \n",
       "2101      60.29    1268.21    3553.79  130.071032         12.89       True  \n",
       "5006     343.77   20834.37    9895.33  129.816710         12.89      False  \n",
       "5007      86.01    1068.35    9835.85  129.826833         12.89      False  \n",
       "5008   61319.72     513.76    1790.89  129.836400         12.89       True  \n",
       "5009    2241.11    6243.02   19374.19  129.845967         12.89      False  \n",
       "5010     140.19    6168.78   14073.59  129.855533         12.89      False  \n",
       "5011     347.78     573.31    6432.36  129.898065         12.89      False  \n",
       "5012     752.34     499.00    5674.11  129.984548         12.89      False  \n",
       "5013     155.37    1011.54    7761.98  130.071032         12.89       True  "
      ]
     },
     "execution_count": 24,
     "metadata": {},
     "output_type": "execute_result"
    }
   ],
   "source": [
    "max_unemployement"
   ]
  },
  {
   "cell_type": "code",
   "execution_count": 25,
   "id": "3f738d92",
   "metadata": {},
   "outputs": [
    {
     "data": {
      "text/html": [
       "<div>\n",
       "<style scoped>\n",
       "    .dataframe tbody tr th:only-of-type {\n",
       "        vertical-align: middle;\n",
       "    }\n",
       "\n",
       "    .dataframe tbody tr th {\n",
       "        vertical-align: top;\n",
       "    }\n",
       "\n",
       "    .dataframe thead th {\n",
       "        text-align: right;\n",
       "    }\n",
       "</style>\n",
       "<table border=\"1\" class=\"dataframe\">\n",
       "  <thead>\n",
       "    <tr style=\"text-align: right;\">\n",
       "      <th></th>\n",
       "      <th>Store</th>\n",
       "      <th>Date</th>\n",
       "      <th>Temperature</th>\n",
       "      <th>Fuel_Price</th>\n",
       "      <th>MarkDown1</th>\n",
       "      <th>MarkDown2</th>\n",
       "      <th>MarkDown3</th>\n",
       "      <th>MarkDown4</th>\n",
       "      <th>MarkDown5</th>\n",
       "      <th>CPI</th>\n",
       "      <th>Unemployment</th>\n",
       "      <th>IsHoliday</th>\n",
       "    </tr>\n",
       "  </thead>\n",
       "  <tbody>\n",
       "    <tr>\n",
       "      <th>4169</th>\n",
       "      <td>23</td>\n",
       "      <td>2013-04-05</td>\n",
       "      <td>35.96</td>\n",
       "      <td>3.772</td>\n",
       "      <td>15085.79</td>\n",
       "      <td>4569.13</td>\n",
       "      <td>185.91</td>\n",
       "      <td>2067.42</td>\n",
       "      <td>2092.26</td>\n",
       "      <td>139.056903</td>\n",
       "      <td>3.684</td>\n",
       "      <td>False</td>\n",
       "    </tr>\n",
       "    <tr>\n",
       "      <th>4170</th>\n",
       "      <td>23</td>\n",
       "      <td>2013-04-12</td>\n",
       "      <td>39.54</td>\n",
       "      <td>3.723</td>\n",
       "      <td>3351.11</td>\n",
       "      <td>4315.25</td>\n",
       "      <td>73.52</td>\n",
       "      <td>1882.00</td>\n",
       "      <td>1737.99</td>\n",
       "      <td>139.122613</td>\n",
       "      <td>3.684</td>\n",
       "      <td>False</td>\n",
       "    </tr>\n",
       "    <tr>\n",
       "      <th>7263</th>\n",
       "      <td>40</td>\n",
       "      <td>2013-04-05</td>\n",
       "      <td>35.59</td>\n",
       "      <td>3.772</td>\n",
       "      <td>14110.29</td>\n",
       "      <td>5571.32</td>\n",
       "      <td>189.13</td>\n",
       "      <td>785.63</td>\n",
       "      <td>3892.09</td>\n",
       "      <td>139.056903</td>\n",
       "      <td>3.684</td>\n",
       "      <td>False</td>\n",
       "    </tr>\n",
       "    <tr>\n",
       "      <th>7264</th>\n",
       "      <td>40</td>\n",
       "      <td>2013-04-12</td>\n",
       "      <td>39.15</td>\n",
       "      <td>3.723</td>\n",
       "      <td>4934.33</td>\n",
       "      <td>3183.26</td>\n",
       "      <td>16.53</td>\n",
       "      <td>351.45</td>\n",
       "      <td>2203.32</td>\n",
       "      <td>139.122613</td>\n",
       "      <td>3.684</td>\n",
       "      <td>False</td>\n",
       "    </tr>\n",
       "    <tr>\n",
       "      <th>7265</th>\n",
       "      <td>40</td>\n",
       "      <td>2013-04-19</td>\n",
       "      <td>45.17</td>\n",
       "      <td>3.678</td>\n",
       "      <td>2322.79</td>\n",
       "      <td>1.59</td>\n",
       "      <td>20.10</td>\n",
       "      <td>133.68</td>\n",
       "      <td>1429.80</td>\n",
       "      <td>139.122613</td>\n",
       "      <td>3.684</td>\n",
       "      <td>False</td>\n",
       "    </tr>\n",
       "  </tbody>\n",
       "</table>\n",
       "</div>"
      ],
      "text/plain": [
       "      Store        Date  Temperature  Fuel_Price  MarkDown1  MarkDown2  \\\n",
       "4169     23  2013-04-05        35.96       3.772   15085.79    4569.13   \n",
       "4170     23  2013-04-12        39.54       3.723    3351.11    4315.25   \n",
       "7263     40  2013-04-05        35.59       3.772   14110.29    5571.32   \n",
       "7264     40  2013-04-12        39.15       3.723    4934.33    3183.26   \n",
       "7265     40  2013-04-19        45.17       3.678    2322.79       1.59   \n",
       "\n",
       "      MarkDown3  MarkDown4  MarkDown5         CPI  Unemployment  IsHoliday  \n",
       "4169     185.91    2067.42    2092.26  139.056903         3.684      False  \n",
       "4170      73.52    1882.00    1737.99  139.122613         3.684      False  \n",
       "7263     189.13     785.63    3892.09  139.056903         3.684      False  \n",
       "7264      16.53     351.45    2203.32  139.122613         3.684      False  \n",
       "7265      20.10     133.68    1429.80  139.122613         3.684      False  "
      ]
     },
     "execution_count": 25,
     "metadata": {},
     "output_type": "execute_result"
    }
   ],
   "source": [
    "min_unemployement"
   ]
  },
  {
   "cell_type": "markdown",
   "id": "ca462804-cc3b-49f4-a249-b852dfbd90d6",
   "metadata": {},
   "source": [
    "\n",
    "#### CPI : The Consumer Price Index (CPI) is a measure of the average change over time in the prices paid by urban consumers for a market basket of consumer goods and services\n",
    "    \n",
    "#### MarkDown : Markdown is the reduction of a product's selling price\n",
    "\n"
   ]
  },
  {
   "cell_type": "markdown",
   "id": "72c8e3ce-7b53-4cc9-bc52-955d529eb5c0",
   "metadata": {},
   "source": [
    "\n",
    "## Adding Year and Month Column to gain future ease of insights\n"
   ]
  },
  {
   "cell_type": "code",
   "execution_count": 26,
   "id": "3e35ef58",
   "metadata": {},
   "outputs": [],
   "source": [
    "Walmart_features['Year'] = pd.DatetimeIndex(Walmart_features['Date']).year "
   ]
  },
  {
   "cell_type": "code",
   "execution_count": 45,
   "id": "9f9cc733-4f7c-4b0f-bc62-a1bee97bbf8a",
   "metadata": {},
   "outputs": [],
   "source": [
    "Walmart_features['Month'] = pd.DatetimeIndex(Walmart_features['Date']).month"
   ]
  },
  {
   "cell_type": "code",
   "execution_count": 27,
   "id": "59addd5c",
   "metadata": {},
   "outputs": [
    {
     "data": {
      "text/plain": [
       "Index(['Store', 'Date', 'Temperature', 'Fuel_Price', 'MarkDown1', 'MarkDown2',\n",
       "       'MarkDown3', 'MarkDown4', 'MarkDown5', 'CPI', 'Unemployment',\n",
       "       'IsHoliday', 'Year'],\n",
       "      dtype='object')"
      ]
     },
     "execution_count": 27,
     "metadata": {},
     "output_type": "execute_result"
    }
   ],
   "source": [
    "Walmart_features.columns"
   ]
  },
  {
   "cell_type": "code",
   "execution_count": 28,
   "id": "2a3a86cc",
   "metadata": {},
   "outputs": [
    {
     "data": {
      "text/plain": [
       "<BarContainer object of 2069 artists>"
      ]
     },
     "execution_count": 28,
     "metadata": {},
     "output_type": "execute_result"
    },
    {
     "data": {
      "image/png": "[encoded data removed]",
      "text/plain": [
       "<Figure size 640x480 with 1 Axes>"
      ]
     },
     "metadata": {},
     "output_type": "display_data"
    }
   ],
   "source": [
    "plt.bar(Walmart_features['Year'] , Walmart_features['Unemployment'])"
   ]
  },
  {
   "cell_type": "code",
   "execution_count": 29,
   "id": "24e0c411",
   "metadata": {},
   "outputs": [
    {
     "data": {
      "text/plain": [
       "<BarContainer object of 2069 artists>"
      ]
     },
     "execution_count": 29,
     "metadata": {},
     "output_type": "execute_result"
    },
    {
     "data": {
      "image/png": "[encoded data removed]",
      "text/plain": [
       "<Figure size 640x480 with 1 Axes>"
      ]
     },
     "metadata": {},
     "output_type": "display_data"
    }
   ],
   "source": [
    "plt.bar(Walmart_features['Year'],\n",
    "        Walmart_features['Fuel_Price'])"
   ]
  },
  {
   "cell_type": "markdown",
   "id": "2a192ad5-ebd7-428c-8543-6860f0670c76",
   "metadata": {},
   "source": [
    "\n",
    "#### Inference : NO current relation between Fuel Price (econimies index) and umeployement was found\n"
   ]
  },
  {
   "cell_type": "code",
   "execution_count": 30,
   "id": "863d9bfc",
   "metadata": {},
   "outputs": [
    {
     "data": {
      "text/html": [
       "<div>\n",
       "<style scoped>\n",
       "    .dataframe tbody tr th:only-of-type {\n",
       "        vertical-align: middle;\n",
       "    }\n",
       "\n",
       "    .dataframe tbody tr th {\n",
       "        vertical-align: top;\n",
       "    }\n",
       "\n",
       "    .dataframe thead th {\n",
       "        text-align: right;\n",
       "    }\n",
       "</style>\n",
       "<table border=\"1\" class=\"dataframe\">\n",
       "  <thead>\n",
       "    <tr style=\"text-align: right;\">\n",
       "      <th></th>\n",
       "      <th>Store</th>\n",
       "      <th>Temperature</th>\n",
       "      <th>Fuel_Price</th>\n",
       "      <th>MarkDown1</th>\n",
       "      <th>MarkDown2</th>\n",
       "      <th>MarkDown3</th>\n",
       "      <th>MarkDown4</th>\n",
       "      <th>MarkDown5</th>\n",
       "      <th>CPI</th>\n",
       "      <th>Unemployment</th>\n",
       "      <th>IsHoliday</th>\n",
       "    </tr>\n",
       "    <tr>\n",
       "      <th>Year</th>\n",
       "      <th></th>\n",
       "      <th></th>\n",
       "      <th></th>\n",
       "      <th></th>\n",
       "      <th></th>\n",
       "      <th></th>\n",
       "      <th></th>\n",
       "      <th></th>\n",
       "      <th></th>\n",
       "      <th></th>\n",
       "      <th></th>\n",
       "    </tr>\n",
       "  </thead>\n",
       "  <tbody>\n",
       "    <tr>\n",
       "      <th>2011</th>\n",
       "      <td>20.123596</td>\n",
       "      <td>42.860262</td>\n",
       "      <td>3.388438</td>\n",
       "      <td>5311.102697</td>\n",
       "      <td>8279.104082</td>\n",
       "      <td>8966.450674</td>\n",
       "      <td>1575.445918</td>\n",
       "      <td>6784.575655</td>\n",
       "      <td>173.513848</td>\n",
       "      <td>7.678356</td>\n",
       "      <td>0.269663</td>\n",
       "    </tr>\n",
       "    <tr>\n",
       "      <th>2012</th>\n",
       "      <td>20.348087</td>\n",
       "      <td>58.594336</td>\n",
       "      <td>3.651765</td>\n",
       "      <td>9403.682753</td>\n",
       "      <td>3422.472993</td>\n",
       "      <td>1652.516249</td>\n",
       "      <td>4067.615941</td>\n",
       "      <td>5274.675131</td>\n",
       "      <td>175.430393</td>\n",
       "      <td>7.304145</td>\n",
       "      <td>0.099775</td>\n",
       "    </tr>\n",
       "    <tr>\n",
       "      <th>2013</th>\n",
       "      <td>20.646055</td>\n",
       "      <td>40.741343</td>\n",
       "      <td>3.574629</td>\n",
       "      <td>13118.712090</td>\n",
       "      <td>5088.476738</td>\n",
       "      <td>113.657377</td>\n",
       "      <td>6128.480789</td>\n",
       "      <td>3454.447079</td>\n",
       "      <td>177.213979</td>\n",
       "      <td>6.863768</td>\n",
       "      <td>0.089552</td>\n",
       "    </tr>\n",
       "  </tbody>\n",
       "</table>\n",
       "</div>"
      ],
      "text/plain": [
       "          Store  Temperature  Fuel_Price     MarkDown1    MarkDown2  \\\n",
       "Year                                                                  \n",
       "2011  20.123596    42.860262    3.388438   5311.102697  8279.104082   \n",
       "2012  20.348087    58.594336    3.651765   9403.682753  3422.472993   \n",
       "2013  20.646055    40.741343    3.574629  13118.712090  5088.476738   \n",
       "\n",
       "        MarkDown3    MarkDown4    MarkDown5         CPI  Unemployment  \\\n",
       "Year                                                                    \n",
       "2011  8966.450674  1575.445918  6784.575655  173.513848      7.678356   \n",
       "2012  1652.516249  4067.615941  5274.675131  175.430393      7.304145   \n",
       "2013   113.657377  6128.480789  3454.447079  177.213979      6.863768   \n",
       "\n",
       "      IsHoliday  \n",
       "Year             \n",
       "2011   0.269663  \n",
       "2012   0.099775  \n",
       "2013   0.089552  "
      ]
     },
     "execution_count": 30,
     "metadata": {},
     "output_type": "execute_result"
    }
   ],
   "source": [
    "#Grouping Data by year\n",
    "\n",
    "Year_grouped = Walmart_features.groupby('Year').mean()\n",
    "Year_grouped"
   ]
  },
  {
   "cell_type": "code",
   "execution_count": 31,
   "id": "76d76151",
   "metadata": {},
   "outputs": [
    {
     "data": {
      "text/plain": [
       "[<matplotlib.lines.Line2D at 0x7fbea2d5fb20>]"
      ]
     },
     "execution_count": 31,
     "metadata": {},
     "output_type": "execute_result"
    },
    {
     "data": {
      "image/png": "[encoded data removed]",
      "text/plain": [
       "<Figure size 640x480 with 1 Axes>"
      ]
     },
     "metadata": {},
     "output_type": "display_data"
    }
   ],
   "source": [
    "#Plotting VS Graphs\n",
    "\n",
    "plt.title(\"Unemployment vs Year\")\n",
    "plt.xlabel('Year')\n",
    "plt.ylabel('Unemployment Rate')\n",
    "plt.plot(Year_grouped['Unemployment'] )"
   ]
  },
  {
   "cell_type": "markdown",
   "id": "3fde6d8b-0013-4412-aba8-08dd001d29e2",
   "metadata": {},
   "source": [
    "\n",
    "#### Inference : Unemployment Decreased over the years\n"
   ]
  },
  {
   "cell_type": "code",
   "execution_count": 32,
   "id": "fb2c5e22",
   "metadata": {},
   "outputs": [
    {
     "data": {
      "text/plain": [
       "[<matplotlib.lines.Line2D at 0x7fbea310aee0>]"
      ]
     },
     "execution_count": 32,
     "metadata": {},
     "output_type": "execute_result"
    },
    {
     "data": {
      "image/png": "[encoded data removed]",
      "text/plain": [
       "<Figure size 640x480 with 1 Axes>"
      ]
     },
     "metadata": {},
     "output_type": "display_data"
    }
   ],
   "source": [
    "plt.title(\"Fuel_Price vs Year\")\n",
    "plt.xlabel('Year')\n",
    "plt.ylabel('Fuel_Price')\n",
    "plt.plot(Year_grouped['Fuel_Price'] )"
   ]
  },
  {
   "cell_type": "markdown",
   "id": "86110344-bdf2-4cf9-81aa-79c026e40dbd",
   "metadata": {},
   "source": [
    "\n",
    "#### Inference : Fuel Price peaked at 2012 and lowest at 2011\n"
   ]
  },
  {
   "cell_type": "code",
   "execution_count": 33,
   "id": "f1638859",
   "metadata": {},
   "outputs": [
    {
     "data": {
      "text/plain": [
       "[<matplotlib.lines.Line2D at 0x7fbea339d0d0>]"
      ]
     },
     "execution_count": 33,
     "metadata": {},
     "output_type": "execute_result"
    },
    {
     "data": {
      "image/png": "[encoded data removed]",
      "text/plain": [
       "<Figure size 640x480 with 1 Axes>"
      ]
     },
     "metadata": {},
     "output_type": "display_data"
    }
   ],
   "source": [
    "plt.title(\"CPI vs Year\")\n",
    "plt.xlabel('Year')\n",
    "plt.ylabel('CPI')\n",
    "plt.plot(Year_grouped['CPI'] )"
   ]
  },
  {
   "cell_type": "markdown",
   "id": "97195f93-5296-4b12-bdf3-27b13c8a9013",
   "metadata": {},
   "source": [
    "\n",
    "\n",
    "#### Inference : CPI increased over the years\n",
    "\n"
   ]
  },
  {
   "cell_type": "code",
   "execution_count": 34,
   "id": "cf1650d0",
   "metadata": {},
   "outputs": [
    {
     "data": {
      "text/plain": [
       "<BarContainer object of 2069 artists>"
      ]
     },
     "execution_count": 34,
     "metadata": {},
     "output_type": "execute_result"
    },
    {
     "data": {
      "image/png": "[encoded data removed]",
      "text/plain": [
       "<Figure size 640x480 with 1 Axes>"
      ]
     },
     "metadata": {},
     "output_type": "display_data"
    }
   ],
   "source": [
    "plt.bar(Walmart_features['Year'],Walmart_features['Temperature'])"
   ]
  },
  {
   "cell_type": "code",
   "execution_count": 36,
   "id": "d9191708",
   "metadata": {},
   "outputs": [],
   "source": [
    "Walmart_features['Quarter'] = pd.DatetimeIndex(Walmart_features['Date']).quarter"
   ]
  },
  {
   "cell_type": "code",
   "execution_count": 37,
   "id": "7680e919",
   "metadata": {},
   "outputs": [],
   "source": [
    "#Visualizing Quarterly Results\n",
    "\n",
    "Quarter1 = Walmart_features.loc[Walmart_features['Quarter'] == 1]['CPI'].mean()\n",
    "Quarter2 = Walmart_features.loc[Walmart_features['Quarter'] == 2]['CPI'].mean()\n",
    "Quarter3 = Walmart_features.loc[Walmart_features['Quarter'] == 3]['CPI'].mean()\n",
    "Quarter4 = Walmart_features.loc[Walmart_features['Quarter'] == 4]['CPI'].mean()"
   ]
  },
  {
   "cell_type": "code",
   "execution_count": 38,
   "id": "595ab279",
   "metadata": {},
   "outputs": [],
   "source": [
    "Quarterly = [Quarter1 , Quarter2 , Quarter3 , Quarter4]"
   ]
  },
  {
   "cell_type": "code",
   "execution_count": 39,
   "id": "46330ddb",
   "metadata": {},
   "outputs": [
    {
     "data": {
      "text/plain": [
       "([<matplotlib.patches.Wedge at 0x7fbea58b7f70>,\n",
       "  <matplotlib.patches.Wedge at 0x7fbea58c7490>,\n",
       "  <matplotlib.patches.Wedge at 0x7fbea58c7b20>,\n",
       "  <matplotlib.patches.Wedge at 0x7fbea58d91f0>],\n",
       " [Text(0.813652001329258, 0.8126933128387935, 'Quarter1'),\n",
       "  Text(-0.8113641919596233, 0.8149773911009481, 'Quarter2'),\n",
       "  Text(-0.8107184082851996, -0.8156198026455174, 'Quarter3'),\n",
       "  Text(0.8169420042577197, -0.8093860399583009, 'Quarter4')],\n",
       " [Text(0.459890261620885, 0.4593483942132311, '25.0%'),\n",
       "  Text(-0.4585971519771784, 0.46063939497010103, '25.0%'),\n",
       "  Text(-0.45823214381337357, -0.46100249714746633, '25.2%'),\n",
       "  Text(0.46174982849349366, -0.45747906606338745, '24.9%')])"
      ]
     },
     "execution_count": 39,
     "metadata": {},
     "output_type": "execute_result"
    },
    {
     "data": {
      "image/png": "[encoded data removed]",
      "text/plain": [
       "<Figure size 640x480 with 1 Axes>"
      ]
     },
     "metadata": {},
     "output_type": "display_data"
    }
   ],
   "source": [
    "plt.pie(Quarterly , \n",
    "        labels=['Quarter1' , 'Quarter2' , 'Quarter3' , 'Quarter4'],\n",
    "       explode = [0.05, 0.05 , 0.05 , 0.05],\n",
    "       autopct='%.1f%%')"
   ]
  },
  {
   "cell_type": "markdown",
   "id": "f1fad585-2527-4960-bc93-c72233d9c2f8",
   "metadata": {},
   "source": [
    "\n",
    "#### Inference : AS the CPI remains almost constant throughout the Quarter, the sales of walmart is not seasonal\n"
   ]
  },
  {
   "cell_type": "code",
   "execution_count": 40,
   "id": "4ab3cd8d",
   "metadata": {},
   "outputs": [],
   "source": [
    "#Comparing Store Size\n",
    "\n",
    "A = Walmart_stores.loc[ Walmart_stores['Type'] == \"A\"].sum()[2]\n",
    "B = Walmart_stores.loc[ Walmart_stores['Type'] == \"B\"].sum()[2]\n",
    "C = Walmart_stores.loc[ Walmart_stores['Type'] == \"C\"].sum()[2]\n",
    "stores = [A , B , C]"
   ]
  },
  {
   "cell_type": "code",
   "execution_count": 41,
   "id": "58eea9b0",
   "metadata": {},
   "outputs": [
    {
     "data": {
      "image/png": "[encoded data removed]",
      "text/plain": [
       "<Figure size 640x480 with 1 Axes>"
      ]
     },
     "metadata": {},
     "output_type": "display_data"
    }
   ],
   "source": [
    "plt.pie(stores , \n",
    "        labels=['Store A' , 'Store B' , 'Store C'] ,\n",
    "         explode = [0.05, 0.05 , 0.05],\n",
    "           autopct='%.1f%%')\n",
    "plt.title('Store Type VS Size')\n",
    "plt.show()"
   ]
  },
  {
   "cell_type": "markdown",
   "id": "bf0e99a2-47b9-4e38-b357-b4f2e8b75713",
   "metadata": {},
   "source": [
    "\n",
    "### Inference : \n",
    "\n",
    "#### Store of type A : 66.5%\n",
    "#### Store of type B : 29.3%\n",
    "#### Store of type C : 4.1%\n"
   ]
  },
  {
   "cell_type": "code",
   "execution_count": 47,
   "id": "d7590a4e",
   "metadata": {},
   "outputs": [
    {
     "data": {
      "image/png": "[encoded data removed]",
      "text/plain": [
       "<Figure size 640x480 with 1 Axes>"
      ]
     },
     "metadata": {},
     "output_type": "display_data"
    }
   ],
   "source": [
    "plt.bar(Walmart_features['Month'] , Walmart_features['Temperature'])\n",
    "plt.title('Month vs Temperature')\n",
    "plt.show()"
   ]
  },
  {
   "cell_type": "markdown",
   "id": "c3cfcf17-9339-4607-b5d9-2a56f08a5fb1",
   "metadata": {},
   "source": [
    "\n",
    "### Inference : \n",
    "\n",
    "#### Temperature is at peak between June and August\n",
    "\n"
   ]
  },
  {
   "cell_type": "code",
   "execution_count": 48,
   "id": "53c67062",
   "metadata": {},
   "outputs": [
    {
     "data": {
      "image/png": "[encoded data removed]",
      "text/plain": [
       "<Figure size 640x480 with 1 Axes>"
      ]
     },
     "metadata": {},
     "output_type": "display_data"
    }
   ],
   "source": [
    "plt.bar(Walmart_features['Month'] , Walmart_features['Unemployment'])\n",
    "plt.title('Month VS Unemployment')\n",
    "plt.show()"
   ]
  },
  {
   "cell_type": "markdown",
   "id": "3e1b9f33-a4ef-46cf-9000-1d518d0fd2c1",
   "metadata": {},
   "source": [
    "\n",
    "### Inference : \n",
    "\n",
    "#### Unemployment is at peak between October and December (Year end)\n",
    "\n"
   ]
  },
  {
   "cell_type": "code",
   "execution_count": 49,
   "id": "005e2df3",
   "metadata": {},
   "outputs": [],
   "source": [
    "eleven = Walmart_features.loc[Walmart_features['Year'] == 2011]\n",
    "twelve = Walmart_features.loc[Walmart_features['Year'] == 2012]\n",
    "thirteen = Walmart_features.loc[Walmart_features['Year'] == 2013]\n",
    "\n",
    "holidays = [len(eleven.loc[eleven['IsHoliday'] == True]) , \n",
    "           len(twelve.loc[twelve['IsHoliday'] == True]) ,\n",
    "            len(thirteen.loc[thirteen['IsHoliday'] == True])]"
   ]
  },
  {
   "cell_type": "code",
   "execution_count": 50,
   "id": "b5c11ca9",
   "metadata": {},
   "outputs": [
    {
     "data": {
      "image/png": "[encoded data removed]",
      "text/plain": [
       "<Figure size 640x480 with 1 Axes>"
      ]
     },
     "metadata": {},
     "output_type": "display_data"
    }
   ],
   "source": [
    "plt.pie(holidays , \n",
    "        labels=['2011' , '2012' , '2013'] ,\n",
    "        explode = [0.05, 0.05 , 0.05],\n",
    "        autopct='%.1f%%')\n",
    "plt.title('Year VS Holidays')\n",
    "plt.show()"
   ]
  },
  {
   "cell_type": "markdown",
   "id": "8d3c8485-179a-40bc-bfac-68850a274b6d",
   "metadata": {},
   "source": [
    "\n",
    "### Inference : \n",
    "\n",
    "#### from Above Graphs\n",
    "\n",
    "#### 2012 had the largest number of holidays \n",
    "#### 2012 had the highest Fuel Price\n",
    "#### 2012 had the highest temperatue\n",
    "#### 2012 had the second highest Unemployement percentage\n",
    "\n"
   ]
  },
  {
   "cell_type": "code",
   "execution_count": 51,
   "id": "1b1acb7b-355e-4da0-a6cb-963d68257e33",
   "metadata": {},
   "outputs": [
    {
     "data": {
      "text/html": [
       "<div>\n",
       "<style scoped>\n",
       "    .dataframe tbody tr th:only-of-type {\n",
       "        vertical-align: middle;\n",
       "    }\n",
       "\n",
       "    .dataframe tbody tr th {\n",
       "        vertical-align: top;\n",
       "    }\n",
       "\n",
       "    .dataframe thead th {\n",
       "        text-align: right;\n",
       "    }\n",
       "</style>\n",
       "<table border=\"1\" class=\"dataframe\">\n",
       "  <thead>\n",
       "    <tr style=\"text-align: right;\">\n",
       "      <th></th>\n",
       "      <th>Store</th>\n",
       "      <th>Date</th>\n",
       "      <th>Temperature</th>\n",
       "      <th>Fuel_Price</th>\n",
       "      <th>MarkDown1</th>\n",
       "      <th>MarkDown2</th>\n",
       "      <th>MarkDown3</th>\n",
       "      <th>MarkDown4</th>\n",
       "      <th>MarkDown5</th>\n",
       "      <th>CPI</th>\n",
       "      <th>Unemployment</th>\n",
       "      <th>IsHoliday</th>\n",
       "      <th>Year</th>\n",
       "      <th>Quarter</th>\n",
       "      <th>Month</th>\n",
       "    </tr>\n",
       "  </thead>\n",
       "  <tbody>\n",
       "    <tr>\n",
       "      <th>92</th>\n",
       "      <td>1</td>\n",
       "      <td>2011-11-11</td>\n",
       "      <td>59.11</td>\n",
       "      <td>3.297</td>\n",
       "      <td>10382.90</td>\n",
       "      <td>6115.67</td>\n",
       "      <td>215.07</td>\n",
       "      <td>2406.62</td>\n",
       "      <td>6551.42</td>\n",
       "      <td>217.998085</td>\n",
       "      <td>7.866</td>\n",
       "      <td>False</td>\n",
       "      <td>2011</td>\n",
       "      <td>4</td>\n",
       "      <td>11</td>\n",
       "    </tr>\n",
       "    <tr>\n",
       "      <th>93</th>\n",
       "      <td>1</td>\n",
       "      <td>2011-11-18</td>\n",
       "      <td>62.25</td>\n",
       "      <td>3.308</td>\n",
       "      <td>6074.12</td>\n",
       "      <td>254.39</td>\n",
       "      <td>51.98</td>\n",
       "      <td>427.39</td>\n",
       "      <td>5988.57</td>\n",
       "      <td>218.220509</td>\n",
       "      <td>7.866</td>\n",
       "      <td>False</td>\n",
       "      <td>2011</td>\n",
       "      <td>4</td>\n",
       "      <td>11</td>\n",
       "    </tr>\n",
       "    <tr>\n",
       "      <th>94</th>\n",
       "      <td>1</td>\n",
       "      <td>2011-11-25</td>\n",
       "      <td>60.14</td>\n",
       "      <td>3.236</td>\n",
       "      <td>410.31</td>\n",
       "      <td>98.00</td>\n",
       "      <td>55805.51</td>\n",
       "      <td>8.00</td>\n",
       "      <td>554.92</td>\n",
       "      <td>218.467621</td>\n",
       "      <td>7.866</td>\n",
       "      <td>True</td>\n",
       "      <td>2011</td>\n",
       "      <td>4</td>\n",
       "      <td>11</td>\n",
       "    </tr>\n",
       "    <tr>\n",
       "      <th>95</th>\n",
       "      <td>1</td>\n",
       "      <td>2011-12-02</td>\n",
       "      <td>48.91</td>\n",
       "      <td>3.172</td>\n",
       "      <td>5629.51</td>\n",
       "      <td>68.00</td>\n",
       "      <td>1398.11</td>\n",
       "      <td>2084.64</td>\n",
       "      <td>20475.32</td>\n",
       "      <td>218.714733</td>\n",
       "      <td>7.866</td>\n",
       "      <td>False</td>\n",
       "      <td>2011</td>\n",
       "      <td>4</td>\n",
       "      <td>12</td>\n",
       "    </tr>\n",
       "    <tr>\n",
       "      <th>96</th>\n",
       "      <td>1</td>\n",
       "      <td>2011-12-09</td>\n",
       "      <td>43.93</td>\n",
       "      <td>3.158</td>\n",
       "      <td>4640.65</td>\n",
       "      <td>19.00</td>\n",
       "      <td>105.02</td>\n",
       "      <td>3639.42</td>\n",
       "      <td>14461.82</td>\n",
       "      <td>218.961846</td>\n",
       "      <td>7.866</td>\n",
       "      <td>False</td>\n",
       "      <td>2011</td>\n",
       "      <td>4</td>\n",
       "      <td>12</td>\n",
       "    </tr>\n",
       "    <tr>\n",
       "      <th>...</th>\n",
       "      <td>...</td>\n",
       "      <td>...</td>\n",
       "      <td>...</td>\n",
       "      <td>...</td>\n",
       "      <td>...</td>\n",
       "      <td>...</td>\n",
       "      <td>...</td>\n",
       "      <td>...</td>\n",
       "      <td>...</td>\n",
       "      <td>...</td>\n",
       "      <td>...</td>\n",
       "      <td>...</td>\n",
       "      <td>...</td>\n",
       "      <td>...</td>\n",
       "      <td>...</td>\n",
       "    </tr>\n",
       "    <tr>\n",
       "      <th>8168</th>\n",
       "      <td>45</td>\n",
       "      <td>2013-03-01</td>\n",
       "      <td>39.72</td>\n",
       "      <td>3.890</td>\n",
       "      <td>6614.32</td>\n",
       "      <td>147.82</td>\n",
       "      <td>5.60</td>\n",
       "      <td>27.55</td>\n",
       "      <td>1668.95</td>\n",
       "      <td>193.122173</td>\n",
       "      <td>8.625</td>\n",
       "      <td>False</td>\n",
       "      <td>2013</td>\n",
       "      <td>1</td>\n",
       "      <td>3</td>\n",
       "    </tr>\n",
       "    <tr>\n",
       "      <th>8169</th>\n",
       "      <td>45</td>\n",
       "      <td>2013-03-08</td>\n",
       "      <td>36.13</td>\n",
       "      <td>3.860</td>\n",
       "      <td>16382.54</td>\n",
       "      <td>88.67</td>\n",
       "      <td>34.62</td>\n",
       "      <td>3096.92</td>\n",
       "      <td>3486.91</td>\n",
       "      <td>193.211524</td>\n",
       "      <td>8.625</td>\n",
       "      <td>False</td>\n",
       "      <td>2013</td>\n",
       "      <td>1</td>\n",
       "      <td>3</td>\n",
       "    </tr>\n",
       "    <tr>\n",
       "      <th>8173</th>\n",
       "      <td>45</td>\n",
       "      <td>2013-04-05</td>\n",
       "      <td>43.94</td>\n",
       "      <td>3.763</td>\n",
       "      <td>16427.83</td>\n",
       "      <td>5341.41</td>\n",
       "      <td>182.59</td>\n",
       "      <td>1523.83</td>\n",
       "      <td>1743.09</td>\n",
       "      <td>193.516047</td>\n",
       "      <td>8.335</td>\n",
       "      <td>False</td>\n",
       "      <td>2013</td>\n",
       "      <td>2</td>\n",
       "      <td>4</td>\n",
       "    </tr>\n",
       "    <tr>\n",
       "      <th>8174</th>\n",
       "      <td>45</td>\n",
       "      <td>2013-04-12</td>\n",
       "      <td>57.39</td>\n",
       "      <td>3.724</td>\n",
       "      <td>8760.15</td>\n",
       "      <td>1713.11</td>\n",
       "      <td>21.08</td>\n",
       "      <td>1302.31</td>\n",
       "      <td>1380.74</td>\n",
       "      <td>193.589304</td>\n",
       "      <td>8.335</td>\n",
       "      <td>False</td>\n",
       "      <td>2013</td>\n",
       "      <td>2</td>\n",
       "      <td>4</td>\n",
       "    </tr>\n",
       "    <tr>\n",
       "      <th>8175</th>\n",
       "      <td>45</td>\n",
       "      <td>2013-04-19</td>\n",
       "      <td>56.27</td>\n",
       "      <td>3.676</td>\n",
       "      <td>1399.81</td>\n",
       "      <td>39.89</td>\n",
       "      <td>44.38</td>\n",
       "      <td>60.83</td>\n",
       "      <td>1445.05</td>\n",
       "      <td>193.589304</td>\n",
       "      <td>8.335</td>\n",
       "      <td>False</td>\n",
       "      <td>2013</td>\n",
       "      <td>2</td>\n",
       "      <td>4</td>\n",
       "    </tr>\n",
       "  </tbody>\n",
       "</table>\n",
       "<p>2069 rows × 15 columns</p>\n",
       "</div>"
      ],
      "text/plain": [
       "      Store        Date  Temperature  Fuel_Price  MarkDown1  MarkDown2  \\\n",
       "92        1  2011-11-11        59.11       3.297   10382.90    6115.67   \n",
       "93        1  2011-11-18        62.25       3.308    6074.12     254.39   \n",
       "94        1  2011-11-25        60.14       3.236     410.31      98.00   \n",
       "95        1  2011-12-02        48.91       3.172    5629.51      68.00   \n",
       "96        1  2011-12-09        43.93       3.158    4640.65      19.00   \n",
       "...     ...         ...          ...         ...        ...        ...   \n",
       "8168     45  2013-03-01        39.72       3.890    6614.32     147.82   \n",
       "8169     45  2013-03-08        36.13       3.860   16382.54      88.67   \n",
       "8173     45  2013-04-05        43.94       3.763   16427.83    5341.41   \n",
       "8174     45  2013-04-12        57.39       3.724    8760.15    1713.11   \n",
       "8175     45  2013-04-19        56.27       3.676    1399.81      39.89   \n",
       "\n",
       "      MarkDown3  MarkDown4  MarkDown5         CPI  Unemployment  IsHoliday  \\\n",
       "92       215.07    2406.62    6551.42  217.998085         7.866      False   \n",
       "93        51.98     427.39    5988.57  218.220509         7.866      False   \n",
       "94     55805.51       8.00     554.92  218.467621         7.866       True   \n",
       "95      1398.11    2084.64   20475.32  218.714733         7.866      False   \n",
       "96       105.02    3639.42   14461.82  218.961846         7.866      False   \n",
       "...         ...        ...        ...         ...           ...        ...   \n",
       "8168       5.60      27.55    1668.95  193.122173         8.625      False   \n",
       "8169      34.62    3096.92    3486.91  193.211524         8.625      False   \n",
       "8173     182.59    1523.83    1743.09  193.516047         8.335      False   \n",
       "8174      21.08    1302.31    1380.74  193.589304         8.335      False   \n",
       "8175      44.38      60.83    1445.05  193.589304         8.335      False   \n",
       "\n",
       "      Year  Quarter  Month  \n",
       "92    2011        4     11  \n",
       "93    2011        4     11  \n",
       "94    2011        4     11  \n",
       "95    2011        4     12  \n",
       "96    2011        4     12  \n",
       "...    ...      ...    ...  \n",
       "8168  2013        1      3  \n",
       "8169  2013        1      3  \n",
       "8173  2013        2      4  \n",
       "8174  2013        2      4  \n",
       "8175  2013        2      4  \n",
       "\n",
       "[2069 rows x 15 columns]"
      ]
     },
     "execution_count": 51,
     "metadata": {},
     "output_type": "execute_result"
    }
   ],
   "source": [
    "Walmart_features"
   ]
  },
  {
   "cell_type": "markdown",
   "id": "bde3bc1b-e8b6-4d6a-80ae-378e41377cc3",
   "metadata": {},
   "source": [
    "\n",
    "# Conclusion:\n",
    "\n",
    "#### Unemployment Decreased over the years.\n",
    "\n",
    "#\n",
    "#### NO Direct relation between Fuel Price (econimies index) and umeployement was found.\n",
    "#\n",
    "#### Indirect relationship between Fuel Price (econimies index) and umeployement: \n",
    "####           2012 had the highest Fuel Price.\n",
    "####            2012 had the second highest Unemployement percentage.\n",
    "#         \n",
    "#### Fuel Price peaked at 2012 and lowest at 2011.\n",
    "#\n",
    "#### CPI increased over the years.\n",
    "#\n",
    "\n",
    "#### AS the CPI remains almost constant throughout the Quarter, the sales of walmart is not seasonal\n",
    "#### Quarter 1 : 25%\n",
    "#### Quarter 2 : 25%\n",
    "#### Quarter 3 : 25.2%\n",
    "#### Quarter 4 : 24.9%\n",
    "#\n",
    "#### Store of type A Size : 66.5%\n",
    "#### Store of type B Size : 29.3%\n",
    "#### Store of type C Size : 4.1%\n",
    "#\n",
    "\n",
    "#### Temperature is at peak between June and August.\n",
    "\n",
    "\n",
    "#### Unemployment is at peak between October and December (Year end).\n",
    " "
   ]
  }
 ],
 "metadata": {
  "kernelspec": {
   "display_name": "Python 3 (ipykernel)",
   "language": "python",
   "name": "python3"
  },
  "language_info": {
   "codemirror_mode": {
    "name": "ipython",
    "version": 3
   },
   "file_extension": ".py",
   "mimetype": "text/x-python",
   "name": "python",
   "nbconvert_exporter": "python",
   "pygments_lexer": "ipython3",
   "version": "3.9.13"
  }
 },
 "nbformat": 4,
 "nbformat_minor": 5
}
